{
 "cells": [
  {
   "cell_type": "markdown",
   "id": "b6fdeff3-9a93-4c7f-94ee-39efcc6b0e83",
   "metadata": {},
   "source": [
    "# Recursion Assignment"
   ]
  },
  {
   "cell_type": "markdown",
   "id": "17ba8aef-7316-4f75-b1dc-b3ec53a9834e",
   "metadata": {},
   "source": [
    "1. Can you explain the logic and working of the Tower of Hanoi algorithm by writing a Java program? How does the recursion work, and how are the movements of disks between rods accomplished?\n",
    "\n",
    "# History of Tower of Hanoi\n",
    "There is a story about an ancient temple in India (Some say it’s in Vietnam – hence the name Hanoi) has a large room with three towers surrounded by 64 golden disks.\n",
    "\n",
    "These disks are continuously moved by priests in the temple. According to a prophecy, when the last move of the puzzle is completed the world will end.\n",
    "\n",
    "These priests acting on the prophecy, follow the immutable rule by Lord Brahma of moving these disk one at a time.\n",
    "\n",
    "Hence this puzzle is often called Tower of Brahma puzzle.\n",
    "\n",
    "Tower of Hanoi is one of the classic problems to look at if you want to learn recursion.\n",
    "\n",
    "It is good to understand how recursive solutions are arrived at and how parameters for this recursion are implemented.\n",
    "\n",
    "\n",
    "# What is the game of Tower of Hanoi?\n",
    "Tower of Hanoi consists of three pegs or towers with n disks placed one over the other.\n",
    "\n",
    "The objective of the puzzle is to move the stack to another peg following these simple rules.\n",
    "\n",
    "Only one disk can be moved at a time.\n",
    "No disk can be placed on top of the smaller disk.\n",
    "\n",
    "Before we proceed, let’s understand Recursion –-\n",
    "\n",
    "# What is Recursion?\n",
    "When a function calls itself, it’s called Recursion.\n",
    "\n",
    "It will be easier for those who have seen the movie Inception.\n",
    "\n",
    "Leonardo had a dream, in that dream he had another dream, in that dream he had yet another dream, and that goes on.\n",
    "\n",
    "So it’s like there is a function called dream()dream(), and we are just calling it in itself.\n",
    "\n",
    "function dream()\n",
    "    print \"Dreaming\"\n",
    "    dream()\n",
    "    \n",
    "# Tower of Hanoi algorithm explained\n",
    "Let’s try to solve a puzzle – Tower of Hanoi using recursion.\n",
    "\n",
    "Take an example with 2 disks: Disk 1 on top of Disk 2 at peg A. The target is to move both these disks to peg B.\n",
    "\n",
    "Move Disk 1 from peg A to peg C. Then move disk 2 from peg A to peg B and, finally, move disk 1 from peg C to peg B.\n",
    "\n",
    "This solution takes 3 steps.\n",
    "\n",
    "You can easily move this stack from peg B to any other peg using these 3 steps.\n",
    "\n",
    "But what if we have 3 disks – 1,2, and 3 stacked in peg A.\n",
    "\n",
    "To move the stack to peg B you would have to expose disk 3 and to do that disk 1 and 2 have to be moved to peg C.\n",
    "\n",
    "So by ensuring that you do not break the rules, using the above subsets of 3 steps in the previous case, you would move disk 1 and 2 to peg C, leaving disk 3 exposed with no disk above it.\n",
    "\n",
    "Now to solve the problem, recursively move disk 3 from peg A to peg B.\n",
    "\n",
    "Then disk 1 from peg C to peg A. After which disk 2 can be moved above disk 3 at peg B.\n",
    "\n",
    "The puzzle is finally completed by moving disk 1 from peg A over disk 2 and 3 at peg B."
   ]
  },
  {
   "cell_type": "markdown",
   "id": "a6c8d26d-cecf-4082-b44a-6bdc8ba16892",
   "metadata": {},
   "source": [
    "2. Given two strings word1 and word2, return the minimum number of operations required to convert word1 to word2.\n",
    "\n",
    "Example 1:\n",
    "\n",
    "Input: word1 = \"horse\", word2 = \"ros\"\n",
    "\n",
    "Output: 3\n",
    "\n",
    "Explanation:\n",
    "horse -> rorse (replace 'h' with 'r')\n",
    "\n",
    "rorse -> rose (remove 'r')\n",
    "\n",
    "rose -> ros (remove 'e')\n",
    "\n",
    "Example 2:\n",
    "\n",
    "Input: word1 = \"intention\", word2 = \"execution\"\n",
    "\n",
    "Output: 5\n",
    "\n",
    "Explanation:\n",
    "intention -> inention (remove 't')\n",
    "\n",
    "inention -> enention (replace 'i' with 'e')\n",
    "\n",
    "enention -> exention (replace 'n' with 'x')\n",
    "\n",
    "exention -> exection (replace 'n' with 'c')\n",
    "\n",
    "exection -> execution (insert 'u')"
   ]
  },
  {
   "cell_type": "code",
   "execution_count": 2,
   "id": "5d4f6a88-8d33-43bd-8982-32584842f111",
   "metadata": {},
   "outputs": [
    {
     "name": "stdout",
     "output_type": "stream",
     "text": [
      "Maximum AND Value =  20\n"
     ]
    }
   ],
   "source": [
    "# 3. Print the max value of the array [ 13, 1, -3, 22, 5].\n",
    "\n",
    "def maxAND(arr, n):\n",
    "    res = 0\n",
    " \n",
    "    for i in range(0, n):\n",
    "        for j in range(i + 1, n):\n",
    "            res = max(res, arr[i] & arr[j])\n",
    " \n",
    "    return res\n",
    " \n",
    " \n",
    "# Driver function\n",
    "arr =[ 13, 1, -3, 22, 5]\n",
    "n = len(arr)\n",
    "print(\"Maximum AND Value = \", maxAND(arr, n))"
   ]
  },
  {
   "cell_type": "code",
   "execution_count": 3,
   "id": "5fe960dd-aea5-4adf-b8ac-3134cc0d56e8",
   "metadata": {},
   "outputs": [
    {
     "name": "stdout",
     "output_type": "stream",
     "text": [
      "Sum of the array is  120\n"
     ]
    }
   ],
   "source": [
    "# Q.4 Find the sum of the values of the array [92, 23, 15, -20, 10].\n",
    "\n",
    "def _sum(arr):\n",
    " \n",
    "    # initialize a variable\n",
    "    # to store the sum\n",
    "    # while iterating through\n",
    "    # the array later\n",
    "    sum = 0\n",
    " \n",
    "    # iterate through the array\n",
    "    # and add each element to the sum variable\n",
    "    # one at a time\n",
    "    for i in arr:\n",
    "        sum = sum + i\n",
    " \n",
    "    return(sum)\n",
    " \n",
    " \n",
    "# main function\n",
    "if __name__ == \"__main__\":\n",
    "    # input values to list\n",
    "    arr =  [92, 23, 15, -20, 10]\n",
    " \n",
    "    # calculating length of array\n",
    "    n = len(arr)\n",
    "    # calling function ans store the sum in ans\n",
    "    ans = _sum(arr)\n",
    "    # display sum\n",
    "    print('Sum of the array is ', ans)"
   ]
  },
  {
   "cell_type": "code",
   "execution_count": 5,
   "id": "f293d563-8e0d-4b81-98a6-b10a1e8d4a72",
   "metadata": {},
   "outputs": [
    {
     "name": "stdout",
     "output_type": "stream",
     "text": [
      "True\n",
      "False\n"
     ]
    }
   ],
   "source": [
    "# Q.5 Given a number n. Print if it is an armstrong number or not.An armstrong number is a number if the sum of every digit in that number raised to the power of total digits in that number is equal to the number.\n",
    "\n",
    "def isArmstrong(val: int) -> bool:\n",
    "    \"\"\"val will be tested to see if its an Armstrong number. \n",
    "    Arguments:\n",
    "        val {int} -- positive integer only. \n",
    "    Returns:\n",
    "        bool -- true is /false isn't\n",
    "    \"\"\"\n",
    " \n",
    "    # break the int into its respective digits\n",
    "    parts = [int(_) for _ in str(val)]\n",
    " \n",
    "    # begin test.\n",
    "    counter = 0\n",
    "    for _ in parts:\n",
    "        counter += _**3\n",
    "    return (counter == val)\n",
    " \n",
    " \n",
    "# Check Armstrong number\n",
    "print(isArmstrong(153))\n",
    " \n",
    "print(isArmstrong(134))"
   ]
  },
  {
   "cell_type": "code",
   "execution_count": null,
   "id": "f67716bc-93ef-4aab-8056-2ffab47c8bcd",
   "metadata": {},
   "outputs": [],
   "source": []
  }
 ],
 "metadata": {
  "kernelspec": {
   "display_name": "Python 3 (ipykernel)",
   "language": "python",
   "name": "python3"
  },
  "language_info": {
   "codemirror_mode": {
    "name": "ipython",
    "version": 3
   },
   "file_extension": ".py",
   "mimetype": "text/x-python",
   "name": "python",
   "nbconvert_exporter": "python",
   "pygments_lexer": "ipython3",
   "version": "3.10.8"
  }
 },
 "nbformat": 4,
 "nbformat_minor": 5
}
